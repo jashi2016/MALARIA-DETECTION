{
  "nbformat": 4,
  "nbformat_minor": 0,
  "metadata": {
    "colab": {
      "name": "Final Project",
      "provenance": [],
      "collapsed_sections": [],
      "authorship_tag": "ABX9TyPvrOhbZfzEoDkq2SCTl+3D"
    },
    "kernelspec": {
      "name": "python3",
      "display_name": "Python 3"
    }
  },
  "cells": [
    {
      "cell_type": "code",
      "metadata": {
        "id": "g2jNVGTUfjbL",
        "outputId": "ecd1b0ad-2159-4be1-8566-df8101de2870",
        "colab": {
          "base_uri": "https://localhost:8080/"
        }
      },
      "source": [
        "#Mounting the google drive to colab\n",
        "from google.colab import drive\n",
        "drive.mount('/content/drive')"
      ],
      "execution_count": 2,
      "outputs": [
        {
          "output_type": "stream",
          "text": [
            "Mounted at /content/drive\n"
          ],
          "name": "stdout"
        }
      ]
    },
    {
      "cell_type": "code",
      "metadata": {
        "id": "n4d79sTufkz6"
      },
      "source": [
        "#import necessary libraries\n",
        "import numpy as np \n",
        "import matplotlib.pyplot as plt\n",
        "import glob\n",
        "import cv2\n",
        "\n",
        "from keras.models import Model, Sequential\n",
        "from keras.layers import Dense, Flatten, Conv2D, MaxPooling2D\n",
        "from keras.layers.normalization import BatchNormalization\n",
        "import os\n",
        "import seaborn as sns\n",
        "from keras.applications.vgg16 import VGG16"
      ],
      "execution_count": 3,
      "outputs": []
    },
    {
      "cell_type": "code",
      "metadata": {
        "id": "HA2S5x2Uf2Yj",
        "outputId": "581285d8-d92d-4aab-faa0-2161cc167dd5",
        "colab": {
          "base_uri": "https://localhost:8080/"
        }
      },
      "source": [
        "#Checking the directories in the dataset\n",
        "print(os.listdir(\"/content/drive/My Drive/Colab Notebooks/Malaria/Dataset/\"))\n",
        "SIZE=256"
      ],
      "execution_count": 4,
      "outputs": [
        {
          "output_type": "stream",
          "text": [
            "['Test', 'Train']\n"
          ],
          "name": "stdout"
        }
      ]
    },
    {
      "cell_type": "code",
      "metadata": {
        "id": "klY3NRr3f44I"
      },
      "source": [
        "#resizing the training images  and labels\n",
        "train_images = []\n",
        "train_labels = [] \n",
        "for directory_path in glob.glob(\"/content/drive/My Drive/Colab Notebooks/Malaria/Dataset/Train/*\"):\n",
        "    label = directory_path.split(\"\\\\\")[-1]\n",
        "    #print(label)\n",
        "    for img_path in glob.glob(os.path.join(directory_path, \"*.png\")):\n",
        "        #print(img_path)\n",
        "        img = cv2.imread(img_path, cv2.IMREAD_COLOR)       \n",
        "        img = cv2.resize(img, (SIZE, SIZE))\n",
        "        img = cv2.cvtColor(img, cv2.COLOR_RGB2BGR)\n",
        "        train_images.append(img)\n",
        "        train_labels.append(label)\n"
      ],
      "execution_count": 5,
      "outputs": []
    },
    {
      "cell_type": "code",
      "metadata": {
        "id": "umFyN6OVf84y"
      },
      "source": [
        "#converting into array\n",
        "train_images = np.array(train_images)\n",
        "train_labels = np.array(train_labels)"
      ],
      "execution_count": 6,
      "outputs": []
    },
    {
      "cell_type": "code",
      "metadata": {
        "id": "-1T_kj3Igo7r"
      },
      "source": [
        "#resizing the testing images  and labels\n",
        "test_images = []\n",
        "test_labels = [] \n",
        "for directory_path in glob.glob(\"/content/drive/My Drive/Colab Notebooks/Malaria/Dataset/Test/*\"):\n",
        "    fruit_label = directory_path.split(\"\\\\\")[-1]\n",
        "    for img_path in glob.glob(os.path.join(directory_path, \"*.png\")):\n",
        "        img = cv2.imread(img_path, cv2.IMREAD_COLOR)\n",
        "        img = cv2.resize(img, (SIZE, SIZE))\n",
        "        img = cv2.cvtColor(img, cv2.COLOR_RGB2BGR)\n",
        "        test_images.append(img)\n",
        "        test_labels.append(fruit_label)"
      ],
      "execution_count": 7,
      "outputs": []
    },
    {
      "cell_type": "code",
      "metadata": {
        "id": "bV7fh1SkhlIz"
      },
      "source": [
        "#converting into array\n",
        "test_images = np.array(test_images)\n",
        "test_labels = np.array(test_labels)"
      ],
      "execution_count": 8,
      "outputs": []
    },
    {
      "cell_type": "code",
      "metadata": {
        "id": "Ay7qNteIiBew"
      },
      "source": [
        "#encoding the data\n",
        "from sklearn import preprocessing\n",
        "le = preprocessing.LabelEncoder()\n",
        "le.fit(test_labels)\n",
        "test_labels_encoded = le.transform(test_labels)\n",
        "le.fit(train_labels)\n",
        "train_labels_encoded = le.transform(train_labels)"
      ],
      "execution_count": 9,
      "outputs": []
    },
    {
      "cell_type": "code",
      "metadata": {
        "id": "pBRkx-Y0iQGH"
      },
      "source": [
        "#splitting the test and training data\n",
        "x_train, y_train, x_test, y_test = train_images, train_labels_encoded, test_images, test_labels_encoded"
      ],
      "execution_count": 10,
      "outputs": []
    },
    {
      "cell_type": "code",
      "metadata": {
        "id": "jK_sbnWviYiD"
      },
      "source": [
        "#scaling the data\n",
        "x_train, x_test = x_train / 255.0, x_test / 255.0"
      ],
      "execution_count": 11,
      "outputs": []
    },
    {
      "cell_type": "code",
      "metadata": {
        "id": "0KVnKaaliyst"
      },
      "source": [
        "#categorizing the data\n",
        "from keras.utils import to_categorical\n",
        "y_train_one_hot = to_categorical(y_train)\n",
        "y_test_one_hot = to_categorical(y_test)\n"
      ],
      "execution_count": 12,
      "outputs": []
    },
    {
      "cell_type": "code",
      "metadata": {
        "id": "wLlMEDVyi-Xf",
        "outputId": "e0c01e97-cf79-42ea-df12-6c15c1ef65fd",
        "colab": {
          "base_uri": "https://localhost:8080/",
          "height": 379
        }
      },
      "source": [
        "#feature extraction using vgg16\n",
        "VGG_model = VGG16(weights='imagenet', include_top=False, input_shape=(SIZE, SIZE, 3))\n",
        "\n",
        "for layer in VGG_model.layers:\n",
        "\tlayer.trainable = False\n",
        "feature_extractor=VGG_model.predict(x_train)\n",
        "features = feature_extractor.reshape(feature_extractor.shape[0], -1)\n",
        "X_for_RF = features\n",
        "X_test_feature = VGG_model.predict(x_test)\n",
        "X_test_features = X_test_feature.reshape(X_test_feature.shape[0], -1)\n",
        "\n",
        "from sklearn.ensemble import RandomForestClassifier\n",
        "RF_model = RandomForestClassifier(n_estimators = 50, random_state = 42)\n",
        "RF_model.fit(X_for_RF, y_train)\n",
        "prediction_RF = RF_model.predict(X_test_features)\n",
        "\n",
        "print(\"For VGG16 model:\")\n",
        "from sklearn import metrics\n",
        "acc=metrics.accuracy_score(test_labels_encoded, prediction_RF)\n",
        "print (\"Accuracy for rf = \", acc)\n",
        "l=[]\n",
        "l.append(acc)\n",
        "\n",
        "from sklearn import svm\n",
        "clf = svm.SVC()\n",
        "clf.fit(X_for_RF, y_train)\n",
        "prediction_svm = clf.predict(X_test_features)\n",
        "acc1=metrics.accuracy_score(test_labels_encoded, prediction_svm)\n",
        "print (\"Accuracy for svm= \", acc1)\n",
        "l.append(acc1)\n",
        "\n",
        "\n",
        "from sklearn.tree import DecisionTreeClassifier\n",
        "clf=DecisionTreeClassifier(max_depth=None, min_samples_split=2,random_state=0)\n",
        "clf.fit(X_for_RF, y_train)\n",
        "prediction_dt = clf.predict(X_test_features)\n",
        "acc2=metrics.accuracy_score(test_labels_encoded, prediction_dt)\n",
        "print (\"Accuracy for dt= \", acc2)\n",
        "l.append(acc2)\n",
        "\n",
        "\n",
        "\n",
        "from sklearn.linear_model import LogisticRegression\n",
        "clf = LogisticRegression(random_state=0,max_iter=500)\n",
        "clf.fit(X_for_RF, y_train)\n",
        "prediction_lr=clf.predict(X_test_features)\n",
        "acc3=metrics.accuracy_score(test_labels_encoded, prediction_lr)\n",
        "print (\"Accuracy for lr = \", acc3)\n",
        "l.append(acc3)\n",
        "\n",
        "from sklearn.ensemble import BaggingClassifier\n",
        "clf = BaggingClassifier(base_estimator=svm.SVC(),n_estimators=10, random_state=0)\n",
        "clf.fit(X_for_RF, y_train)\n",
        "prediction_bc=clf.predict(X_test_features)\n",
        "acc4=metrics.accuracy_score(test_labels_encoded, prediction_bc)\n",
        "print (\"Accuracy for bc= \", acc4)\n",
        "l.append(acc4)\n",
        "\n",
        "names = ['RandomForest','SVM','DecisionTree','Logistic','bagging']\n",
        "plt.bar(names,l)\n",
        "plt.suptitle('Accuracy for VGG16')\n",
        "plt.show()\n",
        "\n",
        "from sklearn.metrics import classification_report\n",
        "print(classification_report(test_labels_encoded, prediction_RF))\n",
        "print(classification_report(test_labels_encoded, prediction_svm))\n",
        "print(classification_report(test_labels_encoded, prediction_dt))\n",
        "print(classification_report(test_labels_encoded, prediction_lr))\n",
        "print(classification_report(test_labels_encoded, prediction_bc))"
      ],
      "execution_count": 114,
      "outputs": [
        {
          "output_type": "stream",
          "text": [
            "Accuracy =  0.8880597014925373\n",
            "Accuracy =  0.7164179104477612\n",
            "Accuracy =  0.8134328358208955\n",
            "Accuracy =  0.9104477611940298\n",
            "Accuracy =  0.7089552238805971\n"
          ],
          "name": "stdout"
        },
        {
          "output_type": "display_data",
          "data": {
            "image/png": "[encoded data removed]",
            "text/plain": [
              "<Figure size 432x288 with 1 Axes>"
            ]
          },
          "metadata": {
            "tags": [],
            "needs_background": "light"
          }
        }
      ]
    },
    {
      "cell_type": "code",
      "metadata": {
        "id": "v_La9sSSsPbo",
        "outputId": "5d9ed4f8-ce57-436d-9903-248f05a87f30",
        "colab": {
          "base_uri": "https://localhost:8080/",
          "height": 379
        }
      },
      "source": [
        " from tensorflow.keras.applications.inception_v3 import InceptionV3\n",
        "inc = InceptionV3(input_shape = (SIZE,SIZE, 3), include_top = False, weights = 'imagenet')\n",
        "for layer in inc.layers:\n",
        "\tlayer.trainable = False\n",
        "feature_extractor2=inc.predict(x_train)\n",
        "features2 = feature_extractor2.reshape(feature_extractor2.shape[0], -1)\n",
        "X_for_RF2 = features2\n",
        "X_test_feature2 = inc.predict(x_test)\n",
        "X_test_features2 = X_test_feature2.reshape(X_test_feature2.shape[0], -1)\n",
        "\n",
        "from sklearn.ensemble import RandomForestClassifier\n",
        "RF_model2 = RandomForestClassifier(n_estimators = 50, random_state = 42)\n",
        "RF_model2.fit(X_for_RF2, y_train)\n",
        "prediction_RF2 = RF_model2.predict(X_test_features2)\n",
        "\n",
        "print(\"For INCEPTIONV3 model:\")\n",
        "\n",
        "from sklearn import metrics\n",
        "acc=metrics.accuracy_score(test_labels_encoded, prediction_RF2)\n",
        "print (\"Accuracy for rf= \", acc)\n",
        "l=[]\n",
        "l.append(acc)\n",
        "\n",
        "from sklearn import svm\n",
        "clf = svm.SVC()\n",
        "clf.fit(X_for_RF2, y_train)\n",
        "prediction_svm2 = clf.predict(X_test_features2)\n",
        "acc1=metrics.accuracy_score(test_labels_encoded, prediction_svm2)\n",
        "print (\"Accuracy for svm = \", acc1)\n",
        "l.append(acc1)\n",
        "\n",
        "\n",
        "from sklearn.tree import DecisionTreeClassifier\n",
        "clf=DecisionTreeClassifier(max_depth=None, min_samples_split=2,random_state=0)\n",
        "clf.fit(X_for_RF2, y_train)\n",
        "prediction_dt2 = clf.predict(X_test_features2)\n",
        "acc2=metrics.accuracy_score(test_labels_encoded, prediction_dt2)\n",
        "print (\"Accuracy for dt= \", acc)\n",
        "l.append(acc2)\n",
        "\n",
        "from sklearn.linear_model import LogisticRegression\n",
        "clf = LogisticRegression(random_state=0,max_iter=500)\n",
        "clf.fit(X_for_RF2, y_train)\n",
        "prediction_lr2=clf.predict(X_test_features2)\n",
        "acc3=metrics.accuracy_score(test_labels_encoded, prediction_lr2)\n",
        "print (\"Accuracy for lr= \", acc3)\n",
        "l.append(acc3)\n",
        "\n",
        "from sklearn.ensemble import BaggingClassifier\n",
        "clf = BaggingClassifier(base_estimator=svm.SVC(),n_estimators=10, random_state=0)\n",
        "clf.fit(X_for_RF2, y_train)\n",
        "prediction_bc2=clf.predict(X_test_features2)\n",
        "acc4=metrics.accuracy_score(test_labels_encoded, prediction_bc2)\n",
        "print (\"Accuracy for bc= \", acc4)\n",
        "l.append(acc4)\n",
        "\n",
        "names = ['RandomForest','SVM','DecisionTree','Logistic','bagging']\n",
        "plt.bar(names,l)\n",
        "plt.suptitle('Accuracy for INCEPTIONV3')\n",
        "plt.show()\n",
        "\n",
        "from sklearn.metrics import classification_report\n",
        "print(classification_report(test_labels_encoded, prediction_RF2))\n",
        "print(classification_report(test_labels_encoded, prediction_svm2))\n",
        "print(classification_report(test_labels_encoded, prediction_dt2))\n",
        "print(classification_report(test_labels_encoded, prediction_lr2))\n",
        "print(classification_report(test_labels_encoded, prediction_bc2))"
      ],
      "execution_count": 126,
      "outputs": [
        {
          "output_type": "stream",
          "text": [
            "Accuracy =  0.9402985074626866\n",
            "Accuracy =  0.9701492537313433\n",
            "Accuracy =  0.9402985074626866\n",
            "Accuracy =  0.9477611940298507\n",
            "Accuracy =  0.9626865671641791\n"
          ],
          "name": "stdout"
        },
        {
          "output_type": "display_data",
          "data": {
            "image/png": "[encoded data removed]",
            "text/plain": [
              "<Figure size 432x288 with 1 Axes>"
            ]
          },
          "metadata": {
            "tags": [],
            "needs_background": "light"
          }
        }
      ]
    },
    {
      "cell_type": "code",
      "metadata": {
        "id": "gblNYhlQv4Os",
        "outputId": "ad1b20ff-f1d3-4b41-f253-908fcd4636a0",
        "colab": {
          "base_uri": "https://localhost:8080/",
          "height": 379
        }
      },
      "source": [
        "from tensorflow.keras.applications import ResNet50\n",
        "res = ResNet50(input_shape=(SIZE,SIZE,3), include_top=False, weights=\"imagenet\")\n",
        "\n",
        "for layer in res.layers:\n",
        "\tlayer.trainable = False\n",
        "feature_extractor3=res.predict(x_train)\n",
        "features3 = feature_extractor3.reshape(feature_extractor3.shape[0], -1)\n",
        "X_for_RF3 = features3\n",
        "X_test_feature3 = res.predict(x_test)\n",
        "X_test_features3 = X_test_feature3.reshape(X_test_feature3.shape[0], -1)\n",
        "\n",
        "from sklearn.ensemble import RandomForestClassifier\n",
        "RF_model3 = RandomForestClassifier(n_estimators = 50, random_state = 42)\n",
        "RF_model3.fit(X_for_RF3, y_train)\n",
        "prediction_RF3 = RF_model3.predict(X_test_features3)\n",
        "\n",
        "print(\"For resnet50 model:\")\n",
        "from sklearn import metrics\n",
        "acc=metrics.accuracy_score(test_labels_encoded, prediction_RF3)\n",
        "print (\"Accuracy for rf= \", acc)\n",
        "l=[]\n",
        "l.append(acc)\n",
        "\n",
        "from sklearn import svm\n",
        "clf = svm.SVC()\n",
        "clf.fit(X_for_RF3, y_train)\n",
        "prediction_svm3 = clf.predict(X_test_features3)\n",
        "acc1=metrics.accuracy_score(test_labels_encoded, prediction_svm3)\n",
        "print (\"Accuracy for svm= \", acc1)\n",
        "l.append(acc1)\n",
        "\n",
        "\n",
        "from sklearn.tree import DecisionTreeClassifier\n",
        "clf=DecisionTreeClassifier(max_depth=None, min_samples_split=2,random_state=0)\n",
        "clf.fit(X_for_RF3, y_train)\n",
        "prediction_dt3 = clf.predict(X_test_features3)\n",
        "acc2=metrics.accuracy_score(test_labels_encoded, prediction_dt3)\n",
        "print (\"Accuracy for dt= \", acc)\n",
        "l.append(acc2)\n",
        "\n",
        "from sklearn.linear_model import LogisticRegression\n",
        "clf = LogisticRegression(random_state=0,max_iter=1000)\n",
        "clf.fit(X_for_RF3, y_train)\n",
        "prediction_lr3=clf.predict(X_test_features3)\n",
        "acc3=metrics.accuracy_score(test_labels_encoded, prediction_lr3)\n",
        "print (\"Accuracy for lr= \", acc3)\n",
        "l.append(acc3)\n",
        "\n",
        "from sklearn.ensemble import BaggingClassifier\n",
        "clf = BaggingClassifier(base_estimator=svm.SVC(),n_estimators=10, random_state=0)\n",
        "clf.fit(X_for_RF3, y_train)\n",
        "prediction_bc3=clf.predict(X_test_features3)\n",
        "acc4=metrics.accuracy_score(test_labels_encoded, prediction_bc3)\n",
        "print (\"Accuracy for bc= \", acc4)\n",
        "l.append(acc4)\n",
        "\n",
        "names = ['Random Forest','SVM','DecisionTreeClassifier','Logistic Regression','bagging']\n",
        "plt.bar(names,l)\n",
        "plt.suptitle('Accuracy for RESNET50')\n",
        "plt.show()\n",
        "\n",
        "from sklearn.metrics import classification_report\n",
        "print(classification_report(test_labels_encoded, prediction_RF3))\n",
        "print(classification_report(test_labels_encoded, prediction_svm3))\n",
        "print(classification_report(test_labels_encoded, prediction_dt3))\n",
        "print(classification_report(test_labels_encoded, prediction_lr3))\n",
        "print(classification_report(test_labels_encoded, prediction_bc3))"
      ],
      "execution_count": 20,
      "outputs": [
        {
          "output_type": "stream",
          "text": [
            "Accuracy =  0.8208955223880597\n",
            "Accuracy =  0.6791044776119403\n",
            "Accuracy =  0.8208955223880597\n",
            "Accuracy =  0.7910447761194029\n",
            "Accuracy =  0.6791044776119403\n"
          ],
          "name": "stdout"
        },
        {
          "output_type": "display_data",
          "data": {
            "image/png": "[encoded data removed]",
            "text/plain": [
              "<Figure size 432x288 with 1 Axes>"
            ]
          },
          "metadata": {
            "tags": [],
            "needs_background": "light"
          }
        }
      ]
    },
    {
      "cell_type": "code",
      "metadata": {
        "id": "73RPoNeCzre-",
        "outputId": "348557c0-89d3-4e49-ad61-8b0e58ea31d0",
        "colab": {
          "base_uri": "https://localhost:8080/",
          "height": 413
        }
      },
      "source": [
        "from tensorflow.keras.applications import VGG19\n",
        "vgg = VGG19(input_shape=(SIZE,SIZE,3), include_top=False, weights=\"imagenet\")\n",
        "\n",
        "for layer in vgg.layers:\n",
        "\tlayer.trainable = False\n",
        "feature_extractor4=vgg.predict(x_train)\n",
        "features4 = feature_extractor4.reshape(feature_extractor4.shape[0], -1)\n",
        "X_for_RF4 = features4\n",
        "X_test_feature4 = vgg.predict(x_test)\n",
        "X_test_features4 = X_test_feature4.reshape(X_test_feature4.shape[0], -1)\n",
        "\n",
        "from sklearn.ensemble import RandomForestClassifier\n",
        "RF_model4 = RandomForestClassifier(n_estimators = 50, random_state = 42)\n",
        "RF_model4.fit(X_for_RF4, y_train)\n",
        "prediction_RF4 = RF_model4.predict(X_test_features4)\n",
        "\n",
        "print(\"For VGG19 model:\")\n",
        "from sklearn import metrics\n",
        "acc=metrics.accuracy_score(test_labels_encoded, prediction_RF4)\n",
        "print (\"Accuracy for rf= \", acc)\n",
        "l=[]\n",
        "l.append(acc)\n",
        "\n",
        "from sklearn import svm\n",
        "clf = svm.SVC()\n",
        "clf.fit(X_for_RF4, y_train)\n",
        "prediction_svm4 = clf.predict(X_test_features4)\n",
        "acc1=metrics.accuracy_score(test_labels_encoded, prediction_svm4)\n",
        "print (\"Accuracy for svm = \", acc1)\n",
        "l.append(acc1)\n",
        "\n",
        "\n",
        "from sklearn.tree import DecisionTreeClassifier\n",
        "clf=DecisionTreeClassifier(max_depth=None, min_samples_split=2,random_state=0)\n",
        "clf.fit(X_for_RF4, y_train)\n",
        "prediction_dt4 = clf.predict(X_test_features4)\n",
        "acc2=metrics.accuracy_score(test_labels_encoded, prediction_dt4)\n",
        "print (\"Accuracy for dt= \", acc)\n",
        "l.append(acc2)\n",
        "\n",
        "from sklearn.linear_model import LogisticRegression\n",
        "clf = LogisticRegression(random_state=0,max_iter=500)\n",
        "clf.fit(X_for_RF4, y_train)\n",
        "prediction_lr4=clf.predict(X_test_features4)\n",
        "acc3=metrics.accuracy_score(test_labels_encoded, prediction_lr4)\n",
        "print (\"Accuracy for lr= \", acc3)\n",
        "l.append(acc3)\n",
        "\n",
        "from sklearn.ensemble import BaggingClassifier\n",
        "clf = BaggingClassifier(base_estimator=svm.SVC(),n_estimators=10, random_state=0)\n",
        "clf.fit(X_for_RF4, y_train)\n",
        "prediction_bc4=clf.predict(X_test_features4)\n",
        "acc4=metrics.accuracy_score(test_labels_encoded, prediction_bc4)\n",
        "print (\"Accuracy for bc= \", acc4)\n",
        "l.append(acc4)\n",
        "\n",
        "names = ['Random Forest','SVM','DecisionTree','Logistic','bagging']\n",
        "plt.bar(names,l)\n",
        "plt.suptitle('Accuracy for VGG19')\n",
        "plt.show()\n",
        "\n",
        "from sklearn.metrics import classification_report\n",
        "print(classification_report(test_labels_encoded, prediction_RF4))\n",
        "print(classification_report(test_labels_encoded, prediction_svm4))\n",
        "print(classification_report(test_labels_encoded, prediction_dt4))\n",
        "print(classification_report(test_labels_encoded, prediction_lr4))\n",
        "print(classification_report(test_labels_encoded, prediction_bc4))"
      ],
      "execution_count": 13,
      "outputs": [
        {
          "output_type": "stream",
          "text": [
            "Downloading data from https://storage.googleapis.com/tensorflow/keras-applications/vgg19/vgg19_weights_tf_dim_ordering_tf_kernels_notop.h5\n",
            "80142336/80134624 [==============================] - 0s 0us/step\n",
            "Accuracy =  0.8731343283582089\n",
            "Accuracy =  0.7238805970149254\n",
            "Accuracy =  0.8731343283582089\n",
            "Accuracy =  0.8880597014925373\n",
            "Accuracy =  0.7164179104477612\n"
          ],
          "name": "stdout"
        },
        {
          "output_type": "display_data",
          "data": {
            "image/png": "[encoded data removed]",
            "text/plain": [
              "<Figure size 432x288 with 1 Axes>"
            ]
          },
          "metadata": {
            "tags": [],
            "needs_background": "light"
          }
        }
      ]
    },
    {
      "cell_type": "code",
      "metadata": {
        "id": "YpuC3aV_l59F",
        "outputId": "632948ce-a7e0-43cf-8662-3fbbdc1d7de5",
        "colab": {
          "base_uri": "https://localhost:8080/",
          "height": 413
        }
      },
      "source": [
        "from tensorflow.keras.applications import Xception\n",
        "xc = Xception(input_shape=(SIZE,SIZE,3), include_top=False, weights=\"imagenet\")\n",
        "\n",
        "for layer in xc.layers:\n",
        "\tlayer.trainable = False\n",
        "feature_extractor5=xc.predict(x_train)\n",
        "features5 = feature_extractor5.reshape(feature_extractor5.shape[0], -1)\n",
        "X_for_RF5 = features5\n",
        "X_test_feature5 = xc.predict(x_test)\n",
        "X_test_features5 = X_test_feature5.reshape(X_test_feature5.shape[0], -1)\n",
        "\n",
        "from sklearn.ensemble import RandomForestClassifier\n",
        "RF_model5 = RandomForestClassifier(n_estimators = 50, random_state = 42)\n",
        "RF_model5.fit(X_for_RF5, y_train)\n",
        "prediction_RF5 = RF_model5.predict(X_test_features5)\n",
        "\n",
        "print(\"For XCEPTION model:\")\n",
        "from sklearn import metrics\n",
        "acc=metrics.accuracy_score(test_labels_encoded, prediction_RF5)\n",
        "print (\"Accuracy for rf = \", acc)\n",
        "l=[]\n",
        "l.append(acc)\n",
        "\n",
        "from sklearn import svm\n",
        "clf = svm.SVC()\n",
        "clf.fit(X_for_RF5, y_train)\n",
        "prediction_svm5 = clf.predict(X_test_features5)\n",
        "acc1=metrics.accuracy_score(test_labels_encoded, prediction_svm5)\n",
        "print (\"Accuracy for svm= \", acc1)\n",
        "l.append(acc1)\n",
        "\n",
        "\n",
        "from sklearn.tree import DecisionTreeClassifier\n",
        "clf=DecisionTreeClassifier(max_depth=None, min_samples_split=2,random_state=0)\n",
        "clf.fit(X_for_RF5, y_train)\n",
        "prediction_dt5 = clf.predict(X_test_features5)\n",
        "acc2=metrics.accuracy_score(test_labels_encoded, prediction_dt5)\n",
        "print (\"Accuracy for dt= \", acc)\n",
        "l.append(acc2)\n",
        "\n",
        "from sklearn.linear_model import LogisticRegression\n",
        "clf = LogisticRegression(random_state=0,max_iter=500)\n",
        "clf.fit(X_for_RF5, y_train)\n",
        "prediction_lr5=clf.predict(X_test_features5)\n",
        "acc3=metrics.accuracy_score(test_labels_encoded, prediction_lr5)\n",
        "print (\"Accuracy for lr= \", acc3)\n",
        "l.append(acc3)\n",
        "\n",
        "from sklearn.ensemble import BaggingClassifier\n",
        "clf = BaggingClassifier(base_estimator=svm.SVC(),n_estimators=10, random_state=0)\n",
        "clf.fit(X_for_RF5, y_train)\n",
        "prediction_bc5=clf.predict(X_test_features5)\n",
        "acc4=metrics.accuracy_score(test_labels_encoded, prediction_bc5)\n",
        "print (\"Accuracy for bc= \", acc4)\n",
        "l.append(acc4)\n",
        "\n",
        "names = ['Random Forest','SVM','DecisionTree','Logistic','bagging']\n",
        "plt.bar(names,l)\n",
        "plt.suptitle('Accuracy for XCEPTION')\n",
        "plt.show()\n",
        "\n",
        "from sklearn.metrics import classification_report\n",
        "print(classification_report(test_labels_encoded, prediction_RF5))\n",
        "print(classification_report(test_labels_encoded, prediction_svm5))\n",
        "print(classification_report(test_labels_encoded, prediction_dt5))\n",
        "print(classification_report(test_labels_encoded, prediction_lr5))\n",
        "print(classification_report(test_labels_encoded, prediction_bc5))"
      ],
      "execution_count": 14,
      "outputs": [
        {
          "output_type": "stream",
          "text": [
            "Downloading data from https://storage.googleapis.com/tensorflow/keras-applications/xception/xception_weights_tf_dim_ordering_tf_kernels_notop.h5\n",
            "83689472/83683744 [==============================] - 0s 0us/step\n",
            "Accuracy =  0.9626865671641791\n",
            "Accuracy =  0.9626865671641791\n",
            "Accuracy =  0.9626865671641791\n",
            "Accuracy =  0.9701492537313433\n",
            "Accuracy =  0.9701492537313433\n"
          ],
          "name": "stdout"
        },
        {
          "output_type": "display_data",
          "data": {
            "image/png": "[encoded data removed]",
            "text/plain": [
              "<Figure size 432x288 with 1 Axes>"
            ]
          },
          "metadata": {
            "tags": [],
            "needs_background": "light"
          }
        }
      ]
    },
    {
      "cell_type": "code",
      "metadata": {
        "id": "rMOVsBBSODu6",
        "outputId": "fb0d780d-4c43-4d5e-ba64-530d372e6e85",
        "colab": {
          "base_uri": "https://localhost:8080/",
          "height": 433
        }
      },
      "source": [
        "from tensorflow.keras.applications import NASNetLarge\n",
        "nas = NASNetLarge(input_shape=(331,331,3), include_top=False, weights=\"imagenet\")\n",
        "\n",
        "for layer in nas.layers:\n",
        "\tlayer.trainable = False\n",
        "feature_extractor6=nas.predict(x_train)\n",
        "features6 = feature_extractor6.reshape(feature_extractor6.shape[0], -1)\n",
        "X_for_RF6 = features6\n",
        "X_test_feature6 = nas.predict(x_test)\n",
        "X_test_features6 = X_test_feature6.reshape(X_test_feature6.shape[0], -1)\n",
        "\n",
        "from sklearn.ensemble import RandomForestClassifier\n",
        "RF_model6 = RandomForestClassifier(n_estimators = 50, random_state = 42)\n",
        "RF_model6.fit(X_for_RF6, y_train)\n",
        "prediction_RF6 = RF_model6.predict(X_test_features6)\n",
        "\n",
        "print(\"For NASNETLARGE model:\")\n",
        "from sklearn import metrics\n",
        "acc=metrics.accuracy_score(test_labels_encoded, prediction_RF6)\n",
        "print (\"Accuracy for rf = \", acc)\n",
        "l=[]\n",
        "l.append(acc)\n",
        "\n",
        "from sklearn import svm\n",
        "clf = svm.SVC()\n",
        "clf.fit(X_for_RF6, y_train)\n",
        "prediction_svm6 = clf.predict(X_test_features6)\n",
        "acc1=metrics.accuracy_score(test_labels_encoded, prediction_svm6)\n",
        "print (\"Accuracy for svm= \", acc1)\n",
        "l.append(acc1)\n",
        "\n",
        "\n",
        "from sklearn.tree import DecisionTreeClassifier\n",
        "clf=DecisionTreeClassifier(max_depth=None, min_samples_split=2,random_state=0)\n",
        "clf.fit(X_for_RF6, y_train)\n",
        "prediction_dt6 = clf.predict(X_test_features6)\n",
        "acc2=metrics.accuracy_score(test_labels_encoded, prediction_dt6)\n",
        "print (\"Accuracy for dt= \", acc)\n",
        "l.append(acc2)\n",
        "\n",
        "from sklearn.linear_model import LogisticRegression\n",
        "clf = LogisticRegression(random_state=0,max_iter=500)\n",
        "clf.fit(X_for_RF6, y_train)\n",
        "prediction_lr6=clf.predict(X_test_features6)\n",
        "acc3=metrics.accuracy_score(test_labels_encoded, prediction_lr6)\n",
        "print (\"Accuracy for lr= \", acc3)\n",
        "l.append(acc3)\n",
        "\n",
        "from sklearn.ensemble import BaggingClassifier\n",
        "clf = BaggingClassifier(base_estimator=svm.SVC(),n_estimators=10, random_state=0)\n",
        "clf.fit(X_for_RF6, y_train)\n",
        "prediction_bc6=clf.predict(X_test_features6)\n",
        "acc4=metrics.accuracy_score(test_labels_encoded, prediction_bc6)\n",
        "print (\"Accuracy for bc= \", acc4)\n",
        "l.append(acc4)\n",
        "\n",
        "names = ['Random Forest','SVM','DecisionTree','Logistic','bagging']\n",
        "plt.bar(names,l)\n",
        "plt.suptitle('Accuracy for NASNETLARGE')\n",
        "plt.show()\n",
        "\n",
        "from sklearn.metrics import classification_report\n",
        "print(classification_report(test_labels_encoded, prediction_RF6))\n",
        "print(classification_report(test_labels_encoded, prediction_svm6))\n",
        "print(classification_report(test_labels_encoded, prediction_dt6))\n",
        "print(classification_report(test_labels_encoded, prediction_lr6))\n",
        "print(classification_report(test_labels_encoded, prediction_bc6))"
      ],
      "execution_count": 17,
      "outputs": [
        {
          "output_type": "stream",
          "text": [
            "WARNING:tensorflow:Model was constructed with shape (None, 331, 331, 3) for input Tensor(\"input_4:0\", shape=(None, 331, 331, 3), dtype=float32), but it was called on an input with incompatible shape (32, 256, 256, 3).\n",
            "WARNING:tensorflow:Model was constructed with shape (None, 331, 331, 3) for input Tensor(\"input_4:0\", shape=(None, 331, 331, 3), dtype=float32), but it was called on an input with incompatible shape (None, 256, 256, 3).\n",
            "Accuracy =  0.9626865671641791\n",
            "Accuracy =  0.9477611940298507\n",
            "Accuracy =  0.9626865671641791\n",
            "Accuracy =  0.9552238805970149\n",
            "Accuracy =  0.9626865671641791\n"
          ],
          "name": "stdout"
        },
        {
          "output_type": "display_data",
          "data": {
            "image/png": "[encoded data removed]",
            "text/plain": [
              "<Figure size 432x288 with 1 Axes>"
            ]
          },
          "metadata": {
            "tags": [],
            "needs_background": "light"
          }
        }
      ]
    },
    {
      "cell_type": "code",
      "metadata": {
        "id": "OBrYAfUeXAkK"
      },
      "source": [
        ""
      ],
      "execution_count": null,
      "outputs": []
    }
  ]
}